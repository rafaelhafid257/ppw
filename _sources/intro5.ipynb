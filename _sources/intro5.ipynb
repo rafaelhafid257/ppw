{
 "cells": [
  {
   "cell_type": "markdown",
   "id": "63a0628f",
   "metadata": {},
   "source": [
    "# Pembelajaran Terawasi (Supervised Learning)\n",
    "Metode machine learning yang menggunakan data berlabel untuk melatih model, contohnya klasifikasi sentimen (positif/negatif) dari ulasan pengguna."
   ]
  }
 ],
 "metadata": {
  "language_info": {
   "name": "python"
  }
 },
 "nbformat": 4,
 "nbformat_minor": 5
}
