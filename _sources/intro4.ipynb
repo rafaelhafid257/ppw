{
 "cells": [
  {
   "cell_type": "markdown",
   "id": "b76cf55b",
   "metadata": {},
   "source": [
    "# Web Data Preprocessing\n",
    "Tahap pembersihan dan persiapan data hasil crawling, misalnya menghapus tag HTML, normalisasi teks, menghilangkan stopwords, atau melakukan stemming agar data lebih siap dianalisis."
   ]
  }
 ],
 "metadata": {
  "language_info": {
   "name": "python"
  }
 },
 "nbformat": 4,
 "nbformat_minor": 5
}
