{
 "cells": [
  {
   "cell_type": "markdown",
   "id": "159e40c7",
   "metadata": {},
   "source": [
    "# Web Structure Mining (graph mining)\n",
    "Analisis struktur hyperlink antar halaman web menggunakan teori graf. Contoh: algoritma PageRank Google yang menilai kepentingan halaman berdasarkan link masuk."
   ]
  }
 ],
 "metadata": {
  "language_info": {
   "name": "python"
  }
 },
 "nbformat": 4,
 "nbformat_minor": 5
}
