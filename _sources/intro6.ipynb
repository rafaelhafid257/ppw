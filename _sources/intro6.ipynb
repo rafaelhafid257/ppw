{
 "cells": [
  {
   "cell_type": "markdown",
   "id": "28eb8a0b",
   "metadata": {},
   "source": [
    "# Pembelajaran Tak Terawasi (Unsupervised Learning)\n",
    "Metode machine learning yang bekerja tanpa label, biasanya untuk menemukan pola atau mengelompokkan data, contohnya clustering artikel berita berdasarkan topik.\n"
   ]
  }
 ],
 "metadata": {
  "language_info": {
   "name": "python"
  }
 },
 "nbformat": 4,
 "nbformat_minor": 5
}
