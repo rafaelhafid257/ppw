{
 "cells": [
  {
   "cell_type": "markdown",
   "id": "87dca18f",
   "metadata": {},
   "source": [
    "# Web Usage Mining\n",
    "Analisis data penggunaan web seperti log server, klik pengguna, atau pola navigasi. Tujuannya memahami perilaku pengguna untuk personalisasi atau rekomendasi."
   ]
  }
 ],
 "metadata": {
  "language_info": {
   "name": "python"
  }
 },
 "nbformat": 4,
 "nbformat_minor": 5
}
