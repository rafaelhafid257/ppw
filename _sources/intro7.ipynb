{
 "cells": [
  {
   "cell_type": "markdown",
   "id": "dee84df0",
   "metadata": {},
   "source": [
    "# Web Content Mining (text mining)\n",
    "Fokus pada ekstraksi informasi dari konten web (teks, gambar, video). Contoh: analisis opini dari postingan media sosial."
   ]
  }
 ],
 "metadata": {
  "language_info": {
   "name": "python"
  }
 },
 "nbformat": 4,
 "nbformat_minor": 5
}
