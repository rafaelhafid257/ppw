{
 "cells": [
  {
   "cell_type": "markdown",
   "id": "b5b52e61",
   "metadata": {},
   "source": [
    "# Deployment System\n",
    "Tahap penerapan hasil web mining ke dalam sistem nyata, misalnya sistem rekomendasi, search engine, atau dashboard analitik."
   ]
  }
 ],
 "metadata": {
  "language_info": {
   "name": "python"
  }
 },
 "nbformat": 4,
 "nbformat_minor": 5
}
