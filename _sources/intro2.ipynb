{
 "cells": [
  {
   "cell_type": "markdown",
   "id": "1cc5efa3",
   "metadata": {},
   "source": [
    "# PPW\n",
    "## Tugas\n",
    "Ini adalah tugas PPW"
   ]
  },
  {
   "cell_type": "markdown",
   "id": "c5dfa52e",
   "metadata": {},
   "source": []
  }
 ],
 "metadata": {
  "language_info": {
   "name": "python"
  }
 },
 "nbformat": 4,
 "nbformat_minor": 5
}
