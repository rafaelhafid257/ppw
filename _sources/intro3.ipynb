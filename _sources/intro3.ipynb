{
 "cells": [
  {
   "cell_type": "markdown",
   "id": "53b655fb",
   "metadata": {},
   "source": [
    "# Web Crawling\n",
    "Proses mengumpulkan data dari halaman web secara otomatis menggunakan program crawler/spider (seperti Googlebot). Hasilnya berupa salinan konten web untuk diindeks atau dianalisis."
   ]
  },
  {
   "cell_type": "markdown",
   "id": "16b5c28a",
   "metadata": {},
   "source": [
    "## Langkah-langkah mengerjakan\n",
    "Siapkan website untuk kalian crawling, dalam contoh kasus ini kita akan mengambil jurnal yang ada di website springer nature. Selanjutnya, buka website https://dev.springernature.com/ lalu buat akun untuk mendapat API yang kalian butuhkan (meta API), copy API paste ke kode yang telah kalian buat.\n",
    "\n",
    "Setelah itu, ketikkan kata kunci yang ingin kalian tampilkan run kode lalu akan muncul total hasil kata kunci yang telah diketikkan sebelumnya. Dan, buat kode untuk mengkonversikan output dari kode kalian menjadi file csv."
   ]
  },
  {
   "cell_type": "code",
   "execution_count": 1,
   "id": "391ee562",
   "metadata": {},
   "outputs": [
    {
     "name": "stdout",
     "output_type": "stream",
     "text": [
      "Requirement already satisfied: sprynger in /usr/local/python/3.12.1/lib/python3.12/site-packages (0.4.1)\n",
      "Requirement already satisfied: lxml in /usr/local/python/3.12.1/lib/python3.12/site-packages (from sprynger) (6.0.1)\n",
      "Requirement already satisfied: requests in /home/codespace/.local/lib/python3.12/site-packages (from sprynger) (2.32.4)\n",
      "Requirement already satisfied: urllib3 in /home/codespace/.local/lib/python3.12/site-packages (from sprynger) (2.5.0)\n",
      "Requirement already satisfied: platformdirs in /home/codespace/.local/lib/python3.12/site-packages (from sprynger) (4.3.8)\n",
      "Requirement already satisfied: charset_normalizer<4,>=2 in /home/codespace/.local/lib/python3.12/site-packages (from requests->sprynger) (3.4.2)\n",
      "Requirement already satisfied: idna<4,>=2.5 in /home/codespace/.local/lib/python3.12/site-packages (from requests->sprynger) (3.10)\n",
      "Requirement already satisfied: certifi>=2017.4.17 in /home/codespace/.local/lib/python3.12/site-packages (from requests->sprynger) (2025.7.9)\n",
      "\n",
      "\u001b[1m[\u001b[0m\u001b[34;49mnotice\u001b[0m\u001b[1;39;49m]\u001b[0m\u001b[39;49m A new release of pip is available: \u001b[0m\u001b[31;49m25.1.1\u001b[0m\u001b[39;49m -> \u001b[0m\u001b[32;49m25.2\u001b[0m\n",
      "\u001b[1m[\u001b[0m\u001b[34;49mnotice\u001b[0m\u001b[1;39;49m]\u001b[0m\u001b[39;49m To update, run: \u001b[0m\u001b[32;49mpython -m pip install --upgrade pip\u001b[0m\n",
      "Note: you may need to restart the kernel to use updated packages.\n"
     ]
    }
   ],
   "source": [
    "pip install sprynger"
   ]
  },
  {
   "cell_type": "code",
   "execution_count": 2,
   "id": "fbf1fcf7",
   "metadata": {},
   "outputs": [
    {
     "name": "stdout",
     "output_type": "stream",
     "text": [
      "Total hasil: 900\n",
      "\n",
      "DOI: 10.1007/s11196-025-10299-4\n",
      "Title: The Language of Justice: Examining Courtroom Discourse in an Electoral Conflict\n",
      "Abstract: Indonesia’s Presidential election in 2019 was a repeat contest between Joko Widodo (JM) as the incumbent, and Prabowo Subianto (PS) as the second-time contender. Once the manual counting of the votes was over, the General Election Committee declared that JM gained more than 55% of the votes; yet that count was challenged by PS. The issue was settled in the Constitutional Court of Indonesia. This study aims to discuss the courtroom dynamics of that dispute, using corpus-assisted methods to analyze a dataset consisting of all the official transcripts from the proceedings in the courts. The transcripts from all roles in the court (judges, lawyers, witnesses, and experts) were compiled as a corpus. The corpus was tokenized, annotated, indexed, and analyzed using LancsBox 6.0, a corpus query system that supports the Indonesian language, the language used in the court. Our key findings were that: the number of speakers, and thus the relative number of words, from the petitioner’s side were much higher than other parties, thus leading to more influence over the proceedings; PS’ team used some witnesses as pseudo-experts to give additional expert-like testimony; and even though legal-domain-specific terms were used, we also found a substantial number of colloquial terms to help mediate power relations within the courtroom. Drawing upon corpus-based evidence, this study describes the language used by both parties, which ultimately led to JM’s electoral success.\n",
      "\n",
      "DOI: 10.1007/s00521-025-11467-0\n",
      "Title: A simple contrastive embedding framework for low-resource fake news detection\n",
      "Abstract: Low-resource fake news detection aims at discerning between true and false claims from low-resource languages with scarce benchmark datasets. In this resource-constrained scenario, fake news data collected from online hoax reporting system is inherently skewed because human fact checkers mainly sample claims that are more likely to be fake or false. Instead of training end-to-end classifier on the extremely imbalanced dataset, our study investigates a simple framework based on contrastive learning and stacking-based ensemble learning as an alternate fake news classification pipeline for Indonesian language. Our empirical result shows that by combining contrastive-based embedding model—Contrast-BERT and ensemble of multilayer perceptrons (MLPs) in inference stage, we improve the precision score in fake news classification up to 26.64%, while maintaining accuracy and recall scores of above 75%, given extreme class imbalance ratio 1:24. Contrast-BERT is also superior to its counterparts in unsupervised topic clustering and evidence retrieval by nearly twofold. Furthermore, we observe that contrastive-based model follows a similar performance trend in Indonesian clickbait benchmark dataset. Contrast-BERT is more accurate and precise at predicting samples than end-to-end BERT classifier by up to 47%, given training subset with extreme imbalance ratio $$\\ge$$ ≥ 1:19.\n",
      "\n",
      "DOI: 10.1007/s11042-024-20528-w\n",
      "Title: A comprehensive analysis of forecasting elections using social media text\n",
      "Abstract: Modern social media’s rise to prominence has altered the ways in which candidates reach out to voters and conduct campaigns. Researchers often dwell upon the uses of social media platforms as a plethora of information for various tasks, such as election prediction, since they contain a large volume of people’s ideas about politics and leaders. Modern political campaigns and party propaganda make extensive use of social media. It is common practise for political parties and candidates to utilise Twitter and other social media during election season for coverage and promotion. This study analyses and provides estimates for the reliability of several volumetric social media techniques to predict election outcomes from social media activity. Incredibly large datasets made available by social media sites may be mined for insights into societal problems and predictions about the future. However, this is difficult because of the skewed and noisy nature of the data. This literature review aims to enlighten readers about the researchers’ input towards the process of forecasting election outcomes using social media content by outlining an assessment of sentiment analysis and its methodologies. The study also discusses research that aims to foretell upcoming elections in several nations by analysing user textual data on social media sites. In addition, this paper has pointed out some of the research gaps that exist in the area of election outcome forecasting and some of the challenging questions in the domain of sentiment analysis. In addition, this paper makes recommendations for the future of election prediction based on material gleaned from social media.\n",
      "\n",
      "DOI: 10.1007/s40152-025-00443-y\n",
      "Title: Afterlives of reclamation: coastal privatization, distanced dispossession, and more-than-human calcifications in Jakarta Bay\n",
      "Abstract: Coastal reclamation in North Jakarta unsettles colonial, terracentric, and anthropocentric understandings of private property. This paper foregrounds two intersecting yet contrasting landmaking practices: elite, ethno-racialized, capital-intensive geoengineering for gated luxury developments, and small-scale kampung shoreline extensions shaped by everyday material improvisations with rubble and calcified mussel shells ( Perna viridis )—among other aims, to stake claims to tenurial security. Introducing “ distanced dispossession” as an analytical concept, the discussion moves beyond dualistic framings of urban property relations as either state-controlled or privately owned. Instead, it highlights historically sedimented inequalities, ontological erasures, and the material agencies shaping Jakarta’s terra-aqueous urbanization. By centering more-than-human infrastructures and submerged histories, the paper complicates dominant narratives of land, belonging, and exclusion in a rapidly subsiding megacity.\n",
      "\n",
      "DOI: 10.1007/s41701-025-00201-9\n",
      "Title: The Betrayal of a Peanut: Moral Condemnation in Metaphorical Insults\n",
      "Abstract: Social media platforms like YouTube have become arenas for unrestrained public critique of political figures, often expressed through metaphorical insults that blend cultural resonance with moral condemnation. This study analyzes 227,168 YouTube comments related to the 2024 Indonesian presidential election, examining how anonymous users employ metaphors such as kacang lupa kulitnya (‘peanut forgets its shell’) and anak haram konstitusi (‘an illegitimate child of the constitution’) to scandalize perceived betrayals by President Jokowi and his son, Gibran Rakabuming Raka. Drawing on metaphor theory and the Natural Semantic Metalanguage (NSM) framework, the analysis demonstrates how these expressions go beyond mere venting, embedding complex emotions and culturally grounded scripts of reciprocity, legitimacy, and fairness within vivid, economical imagery. Far from being rhetorical flourishes, these metaphorical insults align personal grievances with collective moral values, intensifying political discourse in a digitally contested, non-Western context. The metaphorical accusations and insults did not go unchallenged; some were even cleverly reappropriated as counterattacks. The study offers new insights into how metaphorical language, driven by citizen voices, shapes the public understanding of political scandals and reflects changing societal norms in Indonesia’s democratic context.\n",
      "\n",
      "DOI: 10.1007/s11196-025-10329-1\n",
      "Title: Meaning Dislocation and Ideological Production: A Semiotic Analysis of Anti-Corruption and Pancasila Discourses in the Indonesian Legal System\n",
      "Abstract: This study investigates the relationship between anti-corruption rhetoric and the Pancasila symbol within the context of the Indonesian legal system, viewing it as a domain of ideologically charged contestation for interpretation. The study employs a critical semiotic approach to examine the evolution of “corruption” and “anti-corruption” signs from the colonial period through the Reformation era to present-day dynamics. This includes an analysis of Corruption Eradication Commission policies, law revisions, and the political rhetoric of the Jokowi-Prabowo administration, which utilises the “state of exception” to undermine watchdog institutions. The examination uncovers a contradiction: although anti-corruption discourse is articulated through symbols like sting operations, “clean and serve” terminology, and appeals “for the sake of Pancasila,” its primary role frequently leans towards legitimising authority rather than genuinely addressing substantive corruption. The research examines how mainstream media and popular culture contribute to shaping narratives around corruption, alongside the rise of digital counter-discourse, exemplified by the hashtag #ReformasiDikorupsi, which serves as a means of challenging the dominance of interpretation held by state actors and oligarchs. The research illustrates, through the theoretical frameworks of Hodge, Foucault, and Hegelian thinking on inauthenticity, how Pancasila functions as a floating signifier, readily adaptable to prevailing interests or challenged by civil movements. The primary conclusions indicate that corruption has become entrenched as a symbolic mechanism to uphold the dominance of political and economic elites. In contrast, the rhetoric surrounding anti-corruption serves as an ideological facade that obscures the shortcomings of institutional reform. The study suggests reconstructing genuine discursive practices by enhancing transparency, public participation, and critical education, thereby enabling Pancasila to serve once more as a meaningful normative foundation in the fight against corruption.\n",
      "\n",
      "DOI: 10.1007/s10551-025-06043-4\n",
      "Title: Managing Corruption During Regime Change\n",
      "Abstract: We examine how foreign-owned multinational enterprises (MNEs) respond to changing corruption practices in a sudden transition of political systems in one of the world’s largest emerging markets. We draw on the political science and corporate political activity literatures in explaining how local subsidiary firms (subsidiaries) of Western European MNEs adapted their political activities during the transformation of Indonesia’s political landscape from an autocratic regime to a democratic and decentralized system. Based on four case studies of political activities, we found that the political strategies of our subsidiaries changed in response to evolving power structures in an environment of arbitrary and pervasive corruption. Under Suharto’s regime (1967–1998) MNEs sought to avoid informal transaction costs by developing relations with his supporters. When Suharto fell, MNEs began to conduct transitioning strategies by partnering with competitors, leveraging political networks, and outsourcing corrupt practices. Later, however, MNEs developed ethical political strategies by leveraging government partnerships, supporting national interests, and forming relationships with local communities. We theorize that corruption in times of political system change can be dynamic and evolving and that the nature of this corruption offers MNEs more agency than previously understood in managing corrupt demands in ethical ways.\n",
      "\n",
      "DOI: 10.1007/s10037-025-00243-1\n",
      "Title: The ‘Space of Exception’ and its consequences in megaproject development: a case study of the Jakarta-Bandung high-speed railway project\n",
      "Abstract: This study investigates the governance and implementation challenges associated with megaprojects in the Global South, focusing on the Jakarta-Bandung High-Speed Railway (HSR) project in Indonesia. Drawing on the concept of ‘spaces of exception,’ it explores how centralized, autocratic governance within megaprojects could bypass standard planning procedures to speed up the development processes. While such exceptions expedite megaproject implementation, they also create significant governance and planning issues, including cost overruns, delays, and inadequate local government participation. Despite its strategic importance as a National Strategic Project and a part of the Belt and Road Initiative (BRI) investment, the Jakarta-Bandung HSR illustrates the pitfalls of excluding local actors and neglecting regional contexts. The study emphasizes the adverse consequences of insufficient preparation, unreliable feasibility studies, and improper Environmental Impact Assessments (EIA). This paper posits the necessity of balancing the immediate advantages of expedited development with the long-term impacts on governance and regional development. Additionally, a more inclusive governance model and comprehensive planning procedures are crucial for mitigating adverse outcomes and enhancing the effectiveness of megaproject development.\n",
      "\n",
      "DOI: 10.1007/s43621-025-01391-7\n",
      "Title: Carbon and financial performance: the role of women on board as moderator variable from masculine country\n",
      "Abstract: This research aims to examine the effect of carbon performance on financial performance in recognizing the demands of stakeholders to mitigate climate change due to carbon emissions. Additionally, the role of women on board is investigated as a moderating variable in this relationship. The population focuses on non-financial firms listed on the Indonesia Stock Exchange (IDX) in 2018–2022 with a sample of 712 obtained through purposive sampling. Data are obtained from annual and sustainability reports of related firms. Meanwhile, Moderated Regression Analysis was used to analyze the data in this research. The results show that carbon performance has a negative effect on financial performance and the relationship is weakened by women on board as a quasi-moderator. Our study is robust after controlling COVID-19 period. The findings also remain relatively similar in many additional tests except for the variable of women on board, which is not significant in large firms and high-intensive carbon firms. Therefore, the effect of female directors on the relationship between carbon and financial performance is conditional on firm characteristics. The novelty of this study is to test the presence of women on the board in a masculine culture, whether it can provide diverse perspectives in carbon performance decision-making, and how it is linked to financial performance.\n",
      "\n",
      "DOI: 10.1007/s44163-025-00350-5\n",
      "Title: Deciphering news sentiment and stock price relationships in Indonesian companies: an AI-based exploration of industry affiliation and news co-occurrence\n",
      "Abstract: The rapid increase of textual data has transformed the way we understand and forecast financial market behavior. Investor sentiments, often swayed by news, are pivotal in determining stock prices. Analyzing a dataset of 192.582 Indonesian financial news articles published between 2018 and 2023. This study investigates the complex connections between news sentiment and stock market behavior of Indonesian companies. We leverage AI-based sentiment analysis and natural language processing techniques, including identity recognition, network analysis, and correlation assessment, to explore how news sentiment affects stock prices at the levels of individuals, industries, and news co-occurrence clusters. While earlier research has addressed the effect of sentiment on stock prices at both the company and industry levels, there is a significant lack of studies focused on media co-occurrence clusters, which is vital for comprehending the collective media portrayal of interconnected firms. Our results show that sentiment-price correlations strengthen hierarchically, with individual companies at 0.26, industry groupings at 0.30, and news co-occurrence clusters at 0.43. This research introduces a unique analytical framework that explores sentiment across various levels, highlighting co-occurrence clusters that reflect business relationships beyond traditional industry lines. It demonstrates that companies frequently mentioned together in the news exhibit stronger and more stable sentiment-price correlations, offering a new analytical perspective for AI-driven investment strategies and underscoring the potential of big data analytics in Indonesia's capital market.\n",
      "\n"
     ]
    }
   ],
   "source": [
    "import requests\n",
    "# Silahkan membuat api key dari https://dev.springernature.com/#api\n",
    "api_key = \"4b25841b8ccff165e4b251048a414037\"\n",
    "isbn = \"978-3-031-63497-0\"\n",
    "\n",
    "url = \"https://api.springernature.com/meta/v2/json\"\n",
    "params = {\n",
    "    \"q\": f\"jokowi\",\n",
    "    \"api_key\": api_key,\n",
    "    \"p\": 10\n",
    "}\n",
    "\n",
    "response = requests.get(url, params=params)\n",
    "\n",
    "if response.status_code == 200:\n",
    "    data = response.json()\n",
    "    print(f\"Total hasil: {data['result'][0]['total']}\\n\")\n",
    "    for record in data['records']:\n",
    "        doi = record.get('doi', 'N/A')\n",
    "        title = record.get('title', 'No title')\n",
    "        abstract = record.get('abstract', 'No abstract')\n",
    "        print(f\"DOI: {doi}\")\n",
    "        print(f\"Title: {title}\")\n",
    "        print(f\"Abstract: {abstract}\\n\")\n",
    "else:\n",
    "    print(\"Error:\", response.status_code, response.text)"
   ]
  },
  {
   "cell_type": "code",
   "execution_count": 3,
   "id": "18df90b6",
   "metadata": {},
   "outputs": [
    {
     "name": "stdout",
     "output_type": "stream",
     "text": [
      "Sukses: hasil disimpan di springer_results.csv\n"
     ]
    }
   ],
   "source": [
    "import requests\n",
    "import csv\n",
    "\n",
    "api_key = \"4b25841b8ccff165e4b251048a414037\"\n",
    "\n",
    "url = \"https://api.springernature.com/meta/v2/json\"\n",
    "params = {\n",
    "    \"q\": \"web mining\",\n",
    "    \"api_key\": api_key,\n",
    "    \"p\": 10\n",
    "}\n",
    "\n",
    "response = requests.get(url, params=params, timeout=10)\n",
    "\n",
    "if response.status_code == 200:\n",
    "    data = response.json()\n",
    "\n",
    "    # buka file CSV dan tulis header + rows\n",
    "    with open(\"springer_results.csv\", \"w\", newline=\"\", encoding=\"utf-8\") as csvfile:\n",
    "        fieldnames = [\"doi\", \"title\", \"abstract\", \"publicationName\", \"isbn\", \"url\"]\n",
    "        writer = csv.DictWriter(csvfile, fieldnames=fieldnames)\n",
    "        writer.writeheader()\n",
    "\n",
    "        for record in data.get(\"records\", []):\n",
    "            writer.writerow({\n",
    "                \"doi\": record.get(\"doi\", \"N/A\"),\n",
    "                \"title\": record.get(\"title\", \"No title\"),\n",
    "                \"abstract\": record.get(\"abstract\", \"No abstract\"),\n",
    "                \"publicationName\": record.get(\"publicationName\", \"\"),\n",
    "                \"isbn\": record.get(\"isbn\", \"\"),\n",
    "                \"url\": record.get(\"url\", \"\")\n",
    "            })\n",
    "\n",
    "    print(\"Sukses: hasil disimpan di springer_results.csv\")\n",
    "else:\n",
    "    print(\"Error:\", response.status_code, response.text)\n"
   ]
  },
  {
   "cell_type": "markdown",
   "id": "b12056cd",
   "metadata": {},
   "source": [
    "## File csv otomatis tersimpan ke lokal"
   ]
  }
 ],
 "metadata": {
  "kernelspec": {
   "display_name": "Python 3",
   "language": "python",
   "name": "python3"
  },
  "language_info": {
   "codemirror_mode": {
    "name": "ipython",
    "version": 3
   },
   "file_extension": ".py",
   "mimetype": "text/x-python",
   "name": "python",
   "nbconvert_exporter": "python",
   "pygments_lexer": "ipython3",
   "version": "3.12.1"
  }
 },
 "nbformat": 4,
 "nbformat_minor": 5
}
