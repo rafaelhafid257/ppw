{
 "cells": [
  {
   "cell_type": "markdown",
   "id": "53b655fb",
   "metadata": {},
   "source": [
    "# Web Crawling\n",
    "Proses mengumpulkan data dari halaman web secara otomatis menggunakan program crawler/spider (seperti Googlebot). Hasilnya berupa salinan konten web untuk diindeks atau dianalisis."
   ]
  }
 ],
 "metadata": {
  "language_info": {
   "name": "python"
  }
 },
 "nbformat": 4,
 "nbformat_minor": 5
}
